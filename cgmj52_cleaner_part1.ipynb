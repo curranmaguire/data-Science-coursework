{
 "cells": [
  {
   "cell_type": "markdown",
   "metadata": {},
   "source": [
    "We will need to analyse the data using seaborn and matplotlib to visualise some main areas.\n",
    "    -missing data\n",
    "    -duplicates\n",
    "    -any strange variables and outliers\n",
    "    -formats of data\n",
    "\n",
    "we will use these options to visualise the areas we have listed. \n",
    "    -visually check the data to see if there are any missing values\n",
    "    -check the names against eachother to see if there are any duplicates \n",
    "    -use a boxplot to check for outliers and to see if the datasets have a squew\n",
    "    -check the units of the columns are equal \n",
    "\n",
    "\n",
    "visual analysis \n",
    "\n",
    "we can see that missing data is left blank. this makes our checks for data easy however there are multiple rows that have more then one missing pieces of data these will have to be analised and a descision will have to be made on what to do with these pieces of data.\n",
    "\n"
   ]
  },
  {
   "cell_type": "code",
   "execution_count": 1,
   "metadata": {},
   "outputs": [],
   "source": [
    "#main imports of the general modules\n",
    "import xlsxwriter\n",
    "\n",
    "\n",
    "import pandas as pd\n",
    "import numpy as np"
   ]
  },
  {
   "cell_type": "code",
   "execution_count": 2,
   "metadata": {},
   "outputs": [],
   "source": [
    "od1 = pd.read_excel(\"od1.xlsx\")\n",
    "od2 = pd.read_excel(\"od2.xlsx\")\n",
    "os = pd.read_excel(\"os.xlsx\")\n"
   ]
  },
  {
   "cell_type": "code",
   "execution_count": 3,
   "metadata": {},
   "outputs": [
    {
     "name": "stdout",
     "output_type": "stream",
     "text": [
      "Index(['ID', 'Age', 'Gender', 'Diagnosis', 'dioptre_1', 'dioptre_2',\n",
      "       'astigmatism', 'Pachymetry'],\n",
      "      dtype='object')\n",
      "Index(['Diagnosis', 'dioptre_1', 'dioptre_2', 'astigmatism',\n",
      "       'Phakic/Pseudophakic', 'Pneumatic', 'Perkins', 'Pachymetry',\n",
      "       'Axial_Length', 'VF_MD'],\n",
      "      dtype='object')\n",
      "Index(['Unnamed: 0', 'Age', 'Gender', 'Diagnosis', 'Refractive_Defect',\n",
      "       'Unnamed: 5', 'Unnamed: 6', 'Phakic/Pseudophakic', 'IOP', 'Unnamed: 9',\n",
      "       'Pachymetry', 'Axial_Length', 'VF_MD'],\n",
      "      dtype='object')\n"
     ]
    }
   ],
   "source": [
    "print(od1.columns)\n",
    "print(od2.columns)\n",
    "print(os.columns)"
   ]
  },
  {
   "cell_type": "markdown",
   "metadata": {},
   "source": [
    "let's merge the datasets of od1 and od2 so we can have a functioning dataset with all the columns required\n"
   ]
  },
  {
   "cell_type": "code",
   "execution_count": 4,
   "metadata": {},
   "outputs": [],
   "source": [
    "def get_merged_header_ranges(header):\n",
    "    ranges = []\n",
    "    current_value = header[0]\n",
    "    start_col = 0\n",
    "    \n",
    "    for col_num in range(1, len(header)):\n",
    "        if header[col_num] != current_value:\n",
    "            ranges.append((current_value, start_col, col_num - 1))\n",
    "            current_value = header[col_num]\n",
    "            start_col = col_num\n",
    "            \n",
    "    ranges.append((current_value, start_col, col_num))\n",
    "    return ranges\n"
   ]
  },
  {
   "cell_type": "code",
   "execution_count": 5,
   "metadata": {},
   "outputs": [],
   "source": [
    "od = pd.merge(od1,od2, how= 'inner', on=list(set(od1.columns) & set(od2.columns)))"
   ]
  },
  {
   "cell_type": "code",
   "execution_count": 6,
   "metadata": {},
   "outputs": [
    {
     "name": "stdout",
     "output_type": "stream",
     "text": [
      "       ID  Age  Gender   Diagnosis  dioptre_1  dioptre_2  astigmatism  \\\n",
      "0    #038   34  female     healthy       0.50      -1.00         90.0   \n",
      "1    #280   60    male     healthy      -0.50      -1.00         23.0   \n",
      "2    #198   67    male     healthy       0.50      -0.75        156.0   \n",
      "3    #041   50  female  suspicious       1.75      -0.50        120.0   \n",
      "4    #271   41    male     healthy      -1.25      -0.50        150.0   \n",
      "..    ...  ...     ...         ...        ...        ...          ...   \n",
      "239  #089   65  female  suspicious      -6.00      -0.25         10.0   \n",
      "240  #264   61    male  suspicious       2.00      -0.75         90.0   \n",
      "241  #056   65    male    glaucoma      -1.00      -2.75        100.0   \n",
      "242  #018   43    male  suspicious      -2.00      -0.75         97.0   \n",
      "243  #174   63  female     healthy      -3.25      -0.50         72.0   \n",
      "\n",
      "     Pachymetry                 Phakic/Pseudophakic  Pneumatic  Perkins  \\\n",
      "0         599.0                                 NaN       19.0      NaN   \n",
      "1         577.0              the eye keeps the lens       19.0      NaN   \n",
      "2         486.0  crystalline lens has been removed        14.0      NaN   \n",
      "3         570.0  crystalline lens has been removed         NaN     22.0   \n",
      "4         605.0  crystalline lens has been removed        13.0      NaN   \n",
      "..          ...                                 ...        ...      ...   \n",
      "239       565.0  crystalline lens has been removed         NaN     20.0   \n",
      "240       508.0  crystalline lens has been removed        14.0      NaN   \n",
      "241       534.0  crystalline lens has been removed         NaN     18.0   \n",
      "242       575.0              the eye keeps the lens       13.0      NaN   \n",
      "243       522.0  crystalline lens has been removed        15.0      NaN   \n",
      "\n",
      "     Axial_Length  VF_MD  \n",
      "0           23.33    NaN  \n",
      "1           25.06    NaN  \n",
      "2           25.37    NaN  \n",
      "3           25.08  -0.66  \n",
      "4           22.80    NaN  \n",
      "..            ...    ...  \n",
      "239         25.33  -2.42  \n",
      "240         24.31  -0.34  \n",
      "241         24.62  -0.53  \n",
      "242         24.66  -0.24  \n",
      "243         25.78    NaN  \n",
      "\n",
      "[244 rows x 13 columns]\n"
     ]
    }
   ],
   "source": [
    "print(od)"
   ]
  },
  {
   "cell_type": "code",
   "execution_count": 7,
   "metadata": {},
   "outputs": [],
   "source": [
    "# Creating a multilevel DataFrame\n",
    "header = pd.MultiIndex.from_tuples([\n",
    "    ('', 'ID'),\n",
    "    ('Age', 'Age'),\n",
    "    ('Gender', 'Gender'),\n",
    "    ('Diagnosis', 'Diagnosis'),\n",
    "    ('Refractive_Defect', 'dioptre_1'),\n",
    "    ('Refractive_Defect', 'dioptre_2'),\n",
    "    ('Refractive_Defect', 'astigmatism'),\n",
    "    ('Phakic/Pseudophakic', 'Phakic/Pseudophakic'),\n",
    "    ('IOP', 'Pneumatic'),\n",
    "    ('IOP', 'Perkins'),\n",
    "    ('Pachymetry', 'Pachymetry'),\n",
    "    ('Axial_Length', 'Axial_Length'),\n",
    "    ('VF_MD', 'VF_MD')\n",
    "])\n",
    "reorder = ['ID','Age','Gender','Diagnosis','dioptre_1','dioptre_2','astigmatism','Phakic/Pseudophakic','Pneumatic','Perkins','Pachymetry','Axial_Length','VF_MD']\n",
    "od = od[reorder]\n",
    "\n",
    "\n"
   ]
  },
  {
   "cell_type": "code",
   "execution_count": 8,
   "metadata": {},
   "outputs": [],
   "source": [
    "\n",
    "with pd.ExcelWriter('od.xlsx', engine='xlsxwriter') as writer:\n",
    "    # Write the DataFrame to the Excel file\n",
    "    od.to_excel(writer, index=False, sheet_name='Sheet1')\n",
    "\n",
    "    # Get the xlsxwriter workbook and worksheet objects\n",
    "    workbook = writer.book\n",
    "    worksheet = writer.sheets['Sheet1']\n",
    "\n",
    "    # Apply formatting to the first-level header row\n",
    "    header_format = workbook.add_format({'bold': True,  'align': 'center'})\n",
    "    \n",
    "    merged_header_ranges = get_merged_header_ranges(header.get_level_values(0))\n",
    "    for value, start_col, end_col in merged_header_ranges:\n",
    "        if start_col == end_col:\n",
    "            worksheet.write(0, start_col, value, header_format)\n",
    "        else:\n",
    "            worksheet.merge_range(0, start_col, 0, end_col, value, header_format)\n",
    "\n",
    "    # Apply formatting to the second-level header row\n",
    "    for col_num, value in enumerate(header.get_level_values(1)):\n",
    "        worksheet.write(1, col_num, value, header_format)\n",
    "\n",
    "    # Set column widths\n",
    "    worksheet.set_column(0, len(header.get_level_values(1)) - 1, 15)\n"
   ]
  },
  {
   "attachments": {},
   "cell_type": "markdown",
   "metadata": {},
   "source": [
    "This is the end of part 1"
   ]
  }
 ],
 "metadata": {
  "kernelspec": {
   "display_name": "Python 3",
   "language": "python",
   "name": "python3"
  },
  "language_info": {
   "codemirror_mode": {
    "name": "ipython",
    "version": 3
   },
   "file_extension": ".py",
   "mimetype": "text/x-python",
   "name": "python",
   "nbconvert_exporter": "python",
   "pygments_lexer": "ipython3",
   "version": "3.8.8"
  },
  "orig_nbformat": 4
 },
 "nbformat": 4,
 "nbformat_minor": 2
}

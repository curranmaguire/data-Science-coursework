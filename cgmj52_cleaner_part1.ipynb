{
 "cells": [
  {
   "cell_type": "markdown",
   "metadata": {},
   "source": [
    "We will need to analyse the data using seaborn and matplotlib to visualise some main areas.\n",
    "    -missing data\n",
    "    -duplicates\n",
    "    -any strange variables and outliers\n",
    "    -formats of data\n",
    "\n",
    "we will use these options to visualise the areas we have listed. \n",
    "    -visually check the data to see if there are any missing values\n",
    "    -check the names against eachother to see if there are any duplicates \n",
    "    -use a boxplot to check for outliers and to see if the datasets have a squew\n",
    "    -check the units of the columns are equal \n",
    "\n",
    "\n",
    "visual analysis \n",
    "\n",
    "we can see that missing data is left blank. this makes our checks for data easy however there are multiple rows that have more then one missing pieces of data these will have to be analised and a descision will have to be made on what to do with these pieces of data.\n",
    "\n"
   ]
  },
  {
   "cell_type": "code",
   "execution_count": 16,
   "metadata": {},
   "outputs": [],
   "source": [
    "#main imports of the general modules\n",
    "import xlsxwriter\n",
    "\n",
    "\n",
    "import pandas as pd\n",
    "import numpy as np"
   ]
  },
  {
   "cell_type": "code",
   "execution_count": 17,
   "metadata": {},
   "outputs": [],
   "source": [
    "od1 = pd.read_excel(\"od1.xlsx\")\n",
    "od2 = pd.read_excel(\"od2.xlsx\")\n",
    "os = pd.read_excel(\"os.xlsx\")\n"
   ]
  },
  {
   "cell_type": "code",
   "execution_count": 18,
   "metadata": {},
   "outputs": [
    {
     "name": "stdout",
     "output_type": "stream",
     "text": [
      "Index(['ID', 'Age', 'Gender', 'Diagnosis', 'dioptre_1', 'dioptre_2',\n",
      "       'astigmatism', 'Pachymetry'],\n",
      "      dtype='object')\n",
      "Index(['Diagnosis', 'dioptre_1', 'dioptre_2', 'astigmatism',\n",
      "       'Phakic/Pseudophakic', 'Pneumatic', 'Perkins', 'Pachymetry',\n",
      "       'Axial_Length', 'VF_MD'],\n",
      "      dtype='object')\n",
      "Index(['Unnamed: 0', 'Age', 'Gender', 'Diagnosis', 'Refractive_Defect',\n",
      "       'Unnamed: 5', 'Unnamed: 6', 'Phakic/Pseudophakic', 'IOP', 'Unnamed: 9',\n",
      "       'Pachymetry', 'Axial_Length', 'VF_MD'],\n",
      "      dtype='object')\n"
     ]
    }
   ],
   "source": [
    "print(od1.columns)\n",
    "print(od2.columns)\n",
    "print(os.columns)"
   ]
  },
  {
   "cell_type": "markdown",
   "metadata": {},
   "source": [
    "let's merge the datasets of od1 and od2 so we can have a functioning dataset with all the columns required\n"
   ]
  },
  {
   "cell_type": "code",
   "execution_count": 19,
   "metadata": {},
   "outputs": [],
   "source": [
    "def get_merged_header_ranges(header):\n",
    "    ranges = []\n",
    "    current_value = header[0]\n",
    "    start_col = 0\n",
    "    \n",
    "    for col_num in range(1, len(header)):\n",
    "        if header[col_num] != current_value:\n",
    "            ranges.append((current_value, start_col, col_num - 1))\n",
    "            current_value = header[col_num]\n",
    "            start_col = col_num\n",
    "            \n",
    "    ranges.append((current_value, start_col, col_num))\n",
    "    return ranges\n"
   ]
  },
  {
   "cell_type": "code",
   "execution_count": 20,
   "metadata": {},
   "outputs": [],
   "source": [
    "od = pd.merge(od1,od2, how= 'outer', on=['Diagnosis', 'dioptre_1', 'dioptre_2',\n",
    "       'astigmatism', 'Pachymetry'])"
   ]
  },
  {
   "cell_type": "code",
   "execution_count": 21,
   "metadata": {},
   "outputs": [],
   "source": [
    "header = pd.MultiIndex.from_tuples([\n",
    "    ('', 'ID'),\n",
    "    ('Age', 'Age'),\n",
    "    ('Gender', 'Gender'),\n",
    "    ('Diagnosis', 'Diagnosis'),\n",
    "    ('Refractive_Defect', 'dioptre_1'),\n",
    "    ('Refractive_Defect', 'dioptre_2'),\n",
    "    ('Refractive_Defect', 'astigmatism'),\n",
    "    ('Phakic/Pseudophakic', 'Phakic/Pseudophakic'),\n",
    "    ('IOP', 'Pneumatic'),\n",
    "    ('IOP', 'Perkins'),\n",
    "    ('Pachymetry', 'Pachymetry'),\n",
    "    ('Axial_Length', 'Axial_Length'),\n",
    "    ('VF_MD', 'VF_MD')\n",
    "])"
   ]
  },
  {
   "cell_type": "code",
   "execution_count": 22,
   "metadata": {},
   "outputs": [],
   "source": [
    "import gc\n",
    "\n",
    "#now we need to add multi level indexing\n",
    "\n",
    "del od1, od2\n",
    "gc.collect()\n",
    "\n",
    "\n",
    "# Create an Excel file with XlsxWriter as the engine\n",
    "with pd.ExcelWriter('od.xlsx', engine='xlsxwriter') as writer:\n",
    "    # Write the DataFrame to the Excel file\n",
    "    od.to_excel(writer, index=False, sheet_name='Sheet1')\n",
    "    # Get the xlsxwriter workbook and worksheet objects\n",
    "    workbook = writer.book\n",
    "    worksheet = writer.sheets['Sheet1']\n",
    "    header_format = workbook.add_format({'bold': True, \"align\": \"center\", \"border\" : 1, \"border_color\" : \"#000000\"})\n",
    "\n",
    "    # Apply formatting to the first-level header row\n",
    "    \n",
    "    merged_header_ranges = get_merged_header_ranges(header.get_level_values(0))\n",
    "    for value, start_col, end_col in merged_header_ranges:\n",
    "        if start_col == end_col:\n",
    "            worksheet.write(0, start_col, value, header_format)\n",
    "        else:\n",
    "            worksheet.merge_range(0, start_col, 0, end_col, value, header_format)\n",
    "\n",
    "    # Apply formatting to the second-level header row\n",
    "    for col_num, value in enumerate(header.get_level_values(1)):\n",
    "        worksheet.write(1, col_num, value, header_format)\n",
    "\n",
    "    # Set column widths\n",
    "    worksheet.set_column(0, len(header.get_level_values(1)) - 1, 15)"
   ]
  },
  {
   "attachments": {},
   "cell_type": "markdown",
   "metadata": {},
   "source": [
    "This is the end of part 1"
   ]
  }
 ],
 "metadata": {
  "kernelspec": {
   "display_name": "Python 3",
   "language": "python",
   "name": "python3"
  },
  "language_info": {
   "codemirror_mode": {
    "name": "ipython",
    "version": 3
   },
   "file_extension": ".py",
   "mimetype": "text/x-python",
   "name": "python",
   "nbconvert_exporter": "python",
   "pygments_lexer": "ipython3",
   "version": "3.10.11"
  },
  "orig_nbformat": 4
 },
 "nbformat": 4,
 "nbformat_minor": 2
}
